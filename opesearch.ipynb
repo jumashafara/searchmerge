{
 "cells": [
  {
   "cell_type": "code",
   "execution_count": 1,
   "metadata": {},
   "outputs": [],
   "source": [
    "import re\n",
    "import pandas as pd"
   ]
  },
  {
   "cell_type": "code",
   "execution_count": 2,
   "metadata": {},
   "outputs": [],
   "source": [
    "spar_data = pd.read_csv(r'Data\\spar\\SparMainTable.csv')\n",
    "pnp_data = pd.read_csv(r'Data\\pnp\\PnpMainTable.csv')\n",
    "makro_data = pd.read_csv(r'Data\\makro\\MakroMainTable.csv')\n",
    "game_data = pd.read_csv(r'Data\\game\\GameMainTable.csv')"
   ]
  },
  {
   "cell_type": "code",
   "execution_count": 3,
   "metadata": {},
   "outputs": [],
   "source": [
    "pnp = pnp_data['Product Name'].tolist()\n",
    "spar = spar_data['Product Name'].tolist()\n",
    "makro = makro_data['Product Name'].tolist()\n",
    "game = game_data['Product Name'].tolist()"
   ]
  },
  {
   "cell_type": "code",
   "execution_count": 25,
   "metadata": {},
   "outputs": [],
   "source": [
    "def testing_product_list_of_prods(user_search_name, store_names):\n",
    "    store_names = store_names.split(',')\n",
    "    store_names_list = []\n",
    "\n",
    "    for item in store_names:\n",
    "        store_names_list.append(item.strip())\n",
    "\n",
    "    gen_store_list = []\n",
    "\n",
    "    products_lists = []\n",
    "\n",
    "    for store in store_names_list:\n",
    "        if store == 'pnp':\n",
    "            gen_store_list.append(pnp)\n",
    "        if store == 'spar':\n",
    "            gen_store_list.append(spar)\n",
    "        if store == 'makro':\n",
    "            gen_store_list.append(makro)\n",
    "        if store == 'game':\n",
    "            gen_store_list.append(game)\n",
    "        products_lists.append(list(()))   \n",
    "    \n",
    "    prod_lis = []\n",
    "\n",
    "    for group in gen_store_list:\n",
    "        group = [x.lower() for x in group]\n",
    "        prod_lis.append(group)\n",
    "\n",
    "    user_search_name = user_search_name.lower()\n",
    "\n",
    "    words = user_search_name.split(',')\n",
    "        # This returns a list of searched objects \n",
    "        # This is to make our searches robust\n",
    "    # products_lists = []\n",
    "\n",
    "    for j in words:\n",
    "        \n",
    "        for iteration, group in enumerate(prod_lis):    \n",
    "            for i in group:\n",
    "                # Checks for pattern matches for starting in co          \n",
    "                if re.search(r'{}'.format(j), i):\n",
    "                    products_lists[iteration].append(i + f\" {store_names_list[iteration]}\")              \n",
    "    print(products_lists)\n",
    "    # return products_lists"
   ]
  },
  {
   "cell_type": "code",
   "execution_count": 27,
   "metadata": {},
   "outputs": [
    {
     "name": "stdout",
     "output_type": "stream",
     "text": [
      "[['melrose cheese spread sweetmilk 400, g game', 'protex milk protein soap 150, g game', 'ouma rusks buttermilk 500, g game', 'nestle aero-giant milk 90, g game', 'cadbury  dairy milk biscuit 80, g game', 'nestle kit kat milk & cocoa 41, g game'], ['beyers amarula chocolate milk (1 x 110g) makro'], ['clover milk uht f/c  pris 1l spar', 'clover milk uht f/c  pris 1l spar'], ['pnp uht full cream milk 1l x 6 pnp', 'nestle nido 3+ pre-school milk honey 900g pnp']]\n"
     ]
    }
   ],
   "source": [
    "store_names = input(\"Please enter store name:\")\n",
    "product_name = input(\"Please enter product name:\")\n",
    "\n",
    "testing_product_list_of_prods(product_name, store_names)"
   ]
  },
  {
   "cell_type": "code",
   "execution_count": null,
   "metadata": {},
   "outputs": [],
   "source": []
  }
 ],
 "metadata": {
  "interpreter": {
   "hash": "b3ba2566441a7c06988d0923437866b63cedc61552a5af99d1f4fb67d367b25f"
  },
  "kernelspec": {
   "display_name": "Python 3.9.7 64-bit ('base': conda)",
   "language": "python",
   "name": "python3"
  },
  "language_info": {
   "codemirror_mode": {
    "name": "ipython",
    "version": 3
   },
   "file_extension": ".py",
   "mimetype": "text/x-python",
   "name": "python",
   "nbconvert_exporter": "python",
   "pygments_lexer": "ipython3",
   "version": "3.9.7"
  },
  "orig_nbformat": 4
 },
 "nbformat": 4,
 "nbformat_minor": 2
}
